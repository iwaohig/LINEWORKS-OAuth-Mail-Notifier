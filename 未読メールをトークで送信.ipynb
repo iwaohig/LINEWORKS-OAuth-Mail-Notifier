{
  "nbformat": 4,
  "nbformat_minor": 0,
  "metadata": {
    "colab": {
      "provenance": [],
      "authorship_tag": "ABX9TyMx9Rj/4St1kW60bcr6zZIf",
      "include_colab_link": true
    },
    "kernelspec": {
      "name": "python3",
      "display_name": "Python 3"
    },
    "language_info": {
      "name": "python"
    }
  },
  "cells": [
    {
      "cell_type": "markdown",
      "metadata": {
        "id": "view-in-github",
        "colab_type": "text"
      },
      "source": [
        "<a href=\"https://colab.research.google.com/github/iwaohig/LINEWORKS-OAuth-Mail-Notifier/blob/main/%E6%9C%AA%E8%AA%AD%E3%83%A1%E3%83%BC%E3%83%AB%E3%82%92%E3%83%88%E3%83%BC%E3%82%AF%E3%81%A7%E9%80%81%E4%BF%A1.ipynb\" target=\"_parent\"><img src=\"https://colab.research.google.com/assets/colab-badge.svg\" alt=\"Open In Colab\"/></a>"
      ]
    },
    {
      "cell_type": "code",
      "source": [],
      "metadata": {
        "id": "YROZRJFYPKVS"
      },
      "execution_count": null,
      "outputs": []
    },
    {
      "cell_type": "code",
      "execution_count": null,
      "metadata": {
        "id": "WrfGKt0fflQw"
      },
      "outputs": [],
      "source": [
        "!pip install selenium\n",
        "!apt-get update # 更新\n",
        "!apt install chromium-chromedriver # ChromeDriverのインストール\n",
        "!cp /usr/lib/chromium-browser/chromedriver /usr/bin # パスへのコピー\n",
        "import sys\n",
        "sys.path.insert(0,'/usr/lib/chromium-browser/chromedriver') # Pythonのパスに追加"
      ]
    },
    {
      "cell_type": "code",
      "source": [
        "CLIENT_ID = '' #@param {type:\"string\"}\n",
        "CLIENT_SECRET = '' #@param {type:\"string\"}\n",
        "REDIRECT_URI = '' #@param {type:\"string\"}\n",
        "SCOPE = '' #@param {type:\"string\"}\n",
        "STATE = '' #@param {type:\"string\"}\n",
        "LOGIN_ID = '' #@param {type:\"string\"}\n",
        "PASSWORD = '' #@param {type:\"string\"}"
      ],
      "metadata": {
        "id": "mNsvXZVHiE_v"
      },
      "execution_count": 2,
      "outputs": []
    },
    {
      "cell_type": "code",
      "source": [
        "from selenium import webdriver\n",
        "from selenium.webdriver.common.by import By\n",
        "from selenium.common.exceptions import NoAlertPresentException\n",
        "import sys\n",
        "import time\n",
        "import requests\n",
        "import urllib.parse\n",
        "\n",
        "# OAuth認証のためのURL構築\n",
        "AUTH_BASE_URL = 'https://auth.worksmobile.com/oauth2/v2.0/authorize'\n",
        "auth_params = {\n",
        "    'client_id': CLIENT_ID,\n",
        "    'redirect_uri': REDIRECT_URI,\n",
        "    'scope': SCOPE,\n",
        "    'response_type': 'code',\n",
        "    'state': STATE\n",
        "}\n",
        "auth_query = urllib.parse.urlencode(auth_params)\n",
        "auth_url = f'{AUTH_BASE_URL}?{auth_query}'\n",
        "\n",
        "# WebDriverの設定\n",
        "chrome_options = webdriver.ChromeOptions()\n",
        "chrome_options.add_argument('--headless')\n",
        "chrome_options.add_argument('--no-sandbox')\n",
        "chrome_options.add_argument('--disable-dev-shm-usage')\n",
        "driver = webdriver.Chrome(options=chrome_options)\n",
        "\n",
        "# LINE WORKSログインページにアクセス\n",
        "driver.get(auth_url)\n",
        "\n",
        "# ユーザーIDとパスワードの入力\n",
        "driver.find_element(By.ID, \"inputId\").send_keys(LOGIN_ID)\n",
        "driver.find_element(By.ID, \"password\").send_keys(PASSWORD)\n",
        "\n",
        "# ログイン処理の実行\n",
        "driver.execute_script(\"login()\")\n",
        "\n",
        "# リダイレクトを待つ\n",
        "time.sleep(5)\n",
        "\n",
        "# アラートが表示されているかを確認\n",
        "try:\n",
        "    alert = driver.switch_to.alert\n",
        "    alert_text = alert.text\n",
        "    alert.accept()\n",
        "    print(f\"Alert detected: {alert_text}\")\n",
        "\n",
        "except NoAlertPresentException:\n",
        "    pass\n",
        "\n",
        "# リダイレクト後のURLからAuthorization Codeを取得\n",
        "auth_code = driver.current_url.split('code=')[1].split('&')[0]\n",
        "\n",
        "# WebDriverを終了\n",
        "driver.quit()\n",
        "\n",
        "# Access Tokenの取得\n",
        "token_url = 'https://auth.worksmobile.com/oauth2/v2.0/token'\n",
        "data = {\n",
        "    'code': auth_code,\n",
        "    'grant_type': 'authorization_code',\n",
        "    'client_id': CLIENT_ID,\n",
        "    'client_secret': CLIENT_SECRET,\n",
        "    'redirect_uri': REDIRECT_URI\n",
        "}\n",
        "headers = {\n",
        "    'Content-Type': 'application/x-www-form-urlencoded'\n",
        "}\n",
        "\n",
        "response = requests.post(token_url, data=data, headers=headers)\n",
        "\n",
        "if response.status_code == 200:\n",
        "    access_token = response.json().get('access_token')\n",
        "    print(\"Access Token:\", access_token)\n",
        "else:\n",
        "    print(\"Error fetching Access Token:\")\n",
        "    print(f\"HTTP Status Code: {response.status_code}\")\n",
        "    print(f\"Response: {response.json()}\")"
      ],
      "metadata": {
        "id": "jc7HOWlKf3Lq"
      },
      "execution_count": null,
      "outputs": []
    },
    {
      "cell_type": "code",
      "source": [
        "import requests\n",
        "\n",
        "# LINE WORKS API設定\n",
        "base_url = \"https://www.worksapis.com/v1.0\"\n",
        "user_id = \"me\"  # ユーザーID、ログインID、または\"me\"\n",
        "\n",
        "# ヘッダーに認証情報を含める\n",
        "headers = {\n",
        "    \"Authorization\": f\"Bearer {access_token}\"\n",
        "}\n",
        "\n",
        "# メールフォルダリストを取得するAPIエンドポイント\n",
        "url = f\"{base_url}/users/{user_id}/mail/mailfolders\"\n",
        "\n",
        "# APIリクエストを実行\n",
        "response = requests.get(url, headers=headers)\n",
        "\n",
        "# レスポンスの確認\n",
        "if response.status_code == 200:\n",
        "    mail_folders = response.json().get('mailFolders', [])\n",
        "    for folder in mail_folders:\n",
        "        # 受信トレイのフォルダーIDを表示\n",
        "        if folder.get('folderName') == \"受信トレイ\":\n",
        "            print(f\"受信トレイのフォルダーID: {folder.get('folderId')}\")\n",
        "else:\n",
        "    print(f\"エラー: {response.status_code}\")"
      ],
      "metadata": {
        "id": "t9gl7rJ_qpyj"
      },
      "execution_count": null,
      "outputs": []
    },
    {
      "cell_type": "code",
      "source": [
        "from bs4 import BeautifulSoup\n",
        "import requests\n",
        "import json\n",
        "\n",
        "def html_to_text(html):\n",
        "    \"\"\"HTMLをプレーンテキストに変換する\"\"\"\n",
        "    soup = BeautifulSoup(html, 'html.parser')\n",
        "    return soup.get_text()\n",
        "\n",
        "# LINE WORKS API設定\n",
        "base_url = \"https://www.worksapis.com/v1.0\"\n",
        "bot_api_base_url = \"https://www.worksapis.com/v1.0\"\n",
        "user_id = \"me\"  # ユーザーID、ログインID、または\"me\"\n",
        "folder_id = 0  # 受信トレイのフォルダID\n",
        "bot_id = 6885052  # Bot ID\n",
        "channel_id = \"0c3a2bb0-ab63-0bfc-541f-44cf8ce5168e\"  # トークルームID\n",
        "\n",
        "# ヘッダーに認証情報を含める\n",
        "headers = {\"Authorization\": f\"Bearer {access_token}\"}\n",
        "\n",
        "# メールリスト取得APIエンドポイント\n",
        "mail_list_url = f\"{base_url}/users/{user_id}/mail/mailfolders/{folder_id}/children\"\n",
        "\n",
        "# メールリスト取得リクエスト\n",
        "response = requests.get(mail_list_url, headers=headers)\n",
        "\n",
        "if response.status_code == 200:\n",
        "    mails = response.json().get('mails', [])\n",
        "    unread_mail_ids = [mail['mailId'] for mail in mails if mail.get('status') == 'Unread']\n",
        "\n",
        "    # 未読メールの詳細取得とトーク送信\n",
        "    for mail_id in unread_mail_ids:\n",
        "        mail_detail_url = f\"{base_url}/users/{user_id}/mail/{mail_id}\"\n",
        "        detail_response = requests.get(mail_detail_url, headers=headers)\n",
        "\n",
        "        if detail_response.status_code == 200:\n",
        "            mail_detail = detail_response.json()\n",
        "            # HTML本文をテキストに変換\n",
        "            text_body = html_to_text(mail_detail['mail']['body'])\n",
        "            subject = mail_detail['mail']['subject']\n",
        "            message_content = {\n",
        "                \"type\": \"text\",\n",
        "                \"text\": f\"件名: {subject}\\n本文: {text_body}\"\n",
        "            }\n",
        "            # メッセージ送信APIエンドポイント\n",
        "            #send_message_url = f\"{bot_api_base_url}/bots/{bot_id}/channels/{channel_id}/messages\"\n",
        "            send_message_url = f\"{bot_api_base_url}/bots/{bot_id}/users/iwaoh%40lytest1.wmjse.tokyo/messages\"\n",
        "\n",
        "            # ヘッダーに 'Content-Type' を追加\n",
        "            headers['Content-Type'] = 'application/json'\n",
        "\n",
        "            # メッセージ送信\n",
        "            message_response = requests.post(send_message_url, headers=headers, data=json.dumps({\"content\": message_content}))\n",
        "\n",
        "            if message_response.status_code != 201:\n",
        "                print(f\"メールID {mail_id} のメッセージ送信に失敗: {message_response.status_code}\")\n",
        "        else:\n",
        "            print(f\"メールID {mail_id} の取得に失敗: {detail_response.status_code}\")\n",
        "\n",
        "else:\n",
        "    print(f\"メールリスト取得エラー: {response.status_code}\")"
      ],
      "metadata": {
        "id": "MgVvG0uEsqrT"
      },
      "execution_count": 5,
      "outputs": []
    }
  ]
}